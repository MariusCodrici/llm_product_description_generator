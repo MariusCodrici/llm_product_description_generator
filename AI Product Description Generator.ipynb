{
 "cells": [
  {
   "cell_type": "markdown",
   "id": "1bed6490-6826-4556-95d9-cc0df5395b87",
   "metadata": {},
   "source": [
    "Install the necessary libraries"
   ]
  },
  {
   "cell_type": "code",
   "execution_count": 1,
   "id": "c4de9858-6fcc-4d76-9760-2379e97deecc",
   "metadata": {},
   "outputs": [],
   "source": [
    "#pip install gradio\n",
    "#pip install openai\n",
    "#pip install langchain"
   ]
  },
  {
   "cell_type": "markdown",
   "id": "a75328ab-5eb4-4294-bb0b-a663e2703b45",
   "metadata": {},
   "source": [
    "Import the libraries"
   ]
  },
  {
   "cell_type": "code",
   "execution_count": 2,
   "id": "7275679c-4646-4e22-9e10-c8d272784a29",
   "metadata": {},
   "outputs": [],
   "source": [
    "import os\n",
    "from langchain.prompts import PromptTemplate\n",
    "from openai import OpenAI\n",
    "import gradio as gr"
   ]
  },
  {
   "cell_type": "markdown",
   "id": "5996fbe9-d9ed-4508-bbce-e890e3161653",
   "metadata": {},
   "source": [
    "Create the Prompt Template"
   ]
  },
  {
   "cell_type": "code",
   "execution_count": 3,
   "id": "459821d5-63d3-43f5-beff-ae6579cac805",
   "metadata": {},
   "outputs": [],
   "source": [
    "prompt_template_pdg_str =\"\"\"\n",
    "Generate a multi paragraph rich text product description based on the information provided in the product name, product type and features separated by commas.\n",
    "The description should appeal to the target audience. Keep the tone as described in the context section.\n",
    "Example Format:\n",
    "PRODUCT NAME: product name here\n",
    "FEATURES: keywords separated by commas here\n",
    "PRODUCT DESCRIPTION: product description here\n",
    "\n",
    "Generate a product description that is creative and SEO compliant. Start!\n",
    "**Context:\n",
    "PRODUCT NAME: {product_name}\n",
    "PRODUCT TYPE: {product_type}\n",
    "KEY FEATURES: {key_features}\n",
    "TONE: {tone}\n",
    "TARGET AUDIENCE: {target_audience}\n",
    "PRODUCT DESCRIPTION:\"\"\""
   ]
  },
  {
   "cell_type": "markdown",
   "id": "f26d614d-54de-4d3e-9c92-63735d992275",
   "metadata": {},
   "source": [
    "Defines the parameters of the model"
   ]
  },
  {
   "cell_type": "code",
   "execution_count": 5,
   "id": "bda1ff7c-ed14-4407-a391-e8866bad1a02",
   "metadata": {},
   "outputs": [],
   "source": [
    "llm_api_key = \"lm-studio\"\n",
    "llm_api_base = \"http://localhost:1234/v1\"\n",
    "llm_model = \"lmstudio-community/gemma-2-9b-it-GGUF\""
   ]
  },
  {
   "cell_type": "markdown",
   "id": "11bddabf-006d-42a7-8450-a6c39ac68f07",
   "metadata": {},
   "source": [
    "Create description generation function"
   ]
  },
  {
   "cell_type": "code",
   "execution_count": 6,
   "id": "c011adf8-6b0e-485e-8b6d-703b9a671673",
   "metadata": {},
   "outputs": [],
   "source": [
    "def product_desc_generator(product_name, product_type, key_features, target_audience, tone):\n",
    "\n",
    "    prompt_template_pdg = PromptTemplate(\n",
    "        input_variables=[\"product_name\", \"product_type\", \"key_features\", \"target_audience\", \"tone\"], template=prompt_template_pdg_str\n",
    "    )\n",
    "    formatted_prompt_pdg = prompt_template_pdg.format(\n",
    "        product_name=product_name, \n",
    "        product_type=product_type, \n",
    "        key_features=key_features, \n",
    "        target_audience=target_audience, \n",
    "        tone=tone)\n",
    "\n",
    "    llm = OpenAI(\n",
    "        api_key=llm_api_key,\n",
    "        base_url=llm_api_base,\n",
    "    )\n",
    "    \n",
    "    chat_response = llm.chat.completions.create(\n",
    "        model= llm_model,\n",
    "        messages=[\n",
    "            {\"role\": \"system\", \"content\": \"Act as a copyright expert in product description generation.\"},\n",
    "            {\"role\": \"user\", \"content\": formatted_prompt_pdg},\n",
    "        ], temperature=0.7,\n",
    "    \n",
    "    )\n",
    "    return chat_response.choices[0].message.content\n"
   ]
  },
  {
   "cell_type": "markdown",
   "id": "53ac2bc5-5ced-4859-b64c-d38fc9d899fc",
   "metadata": {},
   "source": [
    "Defining the user interface (chat) in Gradio"
   ]
  },
  {
   "cell_type": "code",
   "execution_count": 7,
   "id": "ae7dc358-c5d0-4d9a-8705-aeca6d7f5f41",
   "metadata": {
    "scrolled": true
   },
   "outputs": [
    {
     "name": "stdout",
     "output_type": "stream",
     "text": [
      "Running on local URL:  http://127.0.0.1:7860\n",
      "\n",
      "To create a public link, set `share=True` in `launch()`.\n"
     ]
    },
    {
     "data": {
      "text/html": [
       "<div><iframe src=\"http://127.0.0.1:7860/\" width=\"100%\" height=\"500\" allow=\"autoplay; camera; microphone; clipboard-read; clipboard-write;\" frameborder=\"0\" allowfullscreen></iframe></div>"
      ],
      "text/plain": [
       "<IPython.core.display.HTML object>"
      ]
     },
     "metadata": {},
     "output_type": "display_data"
    },
    {
     "data": {
      "text/plain": []
     },
     "execution_count": 7,
     "metadata": {},
     "output_type": "execute_result"
    }
   ],
   "source": [
    "\n",
    "with gr.Blocks() as pdgUI:\n",
    "    gr.HTML(\"\"\"<h1>AI Product Description Generator</h1>\"\"\")\n",
    "    gr.Markdown(\"Generate Product Description for your products instantly!<br>\")\n",
    "    with gr.Tab(\"Request!\"):\n",
    "        product_name = gr.Textbox(\n",
    "            label=\"Product brand and model\",\n",
    "            placeholder=\"...\",\n",
    "        )\n",
    "        product_type = gr.Textbox(\n",
    "            label=\"Product type\",\n",
    "            placeholder=\"What type of product is it?\",\n",
    "        )\n",
    "        key_features = gr.Textbox(\n",
    "            label=\"Key features\",\n",
    "            placeholder=\"Detailed list of product features and specifications\",\n",
    "        )        \n",
    "        target_audience = gr.Textbox(\n",
    "            label=\"Target Audience\",\n",
    "            placeholder=\"Who should be interested in this product?\",\n",
    "        ) \n",
    "        tone = gr.Dropdown(\n",
    "            choices =[\"formal\", \"casual\", \"enthusiastic\"],\n",
    "            label=\"Tone\",\n",
    "        )      \n",
    "\n",
    "        click_button = gr.Button(value=\"Generate!\")\n",
    "        product_description = gr.Textbox(label=\"Product Description\")\n",
    "        click_button.click(\n",
    "            product_desc_generator, [product_name, product_type, key_features, target_audience, tone], product_description\n",
    "        )\n",
    "\n",
    "pdgUI.launch()"
   ]
  },
  {
   "cell_type": "code",
   "execution_count": null,
   "id": "67636ed9-7efb-4d46-9417-789603e9c506",
   "metadata": {},
   "outputs": [],
   "source": []
  }
 ],
 "metadata": {
  "kernelspec": {
   "display_name": "Python 3 (ipykernel)",
   "language": "python",
   "name": "python3"
  },
  "language_info": {
   "codemirror_mode": {
    "name": "ipython",
    "version": 3
   },
   "file_extension": ".py",
   "mimetype": "text/x-python",
   "name": "python",
   "nbconvert_exporter": "python",
   "pygments_lexer": "ipython3",
   "version": "3.12.4"
  }
 },
 "nbformat": 4,
 "nbformat_minor": 5
}
